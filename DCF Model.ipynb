{
 "cells": [
  {
   "cell_type": "code",
   "execution_count": 2,
   "metadata": {},
   "outputs": [],
   "source": [
    "from yahoo_finance import Share\n",
    "import pandas as pd\n",
    "import yfinance as yf\n",
    "from yahoofinancials import YahooFinancials\n",
    "import matplotlib.pyplot as plt\n",
    "import datetime as dt\n",
    "import xlwings as xw"
   ]
  },
  {
   "cell_type": "code",
   "execution_count": 3,
   "metadata": {},
   "outputs": [],
   "source": [
    "wb = xw.Book('DCF Model.xlsx')\n",
    "overview = wb.sheets['Sheet8']\n",
    "IS = wb.sheets['Income Statement']\n",
    "code = overview.range('C3').value"
   ]
  },
  {
   "cell_type": "markdown",
   "metadata": {},
   "source": [
    "# Return the full company name"
   ]
  },
  {
   "cell_type": "code",
   "execution_count": 18,
   "metadata": {},
   "outputs": [
    {
     "name": "stdout",
     "output_type": "stream",
     "text": [
      "National Australia Bank Limited\n"
     ]
    },
    {
     "ename": "com_error",
     "evalue": "(-2147023174, 'The RPC server is unavailable.', None, None)",
     "output_type": "error",
     "traceback": [
      "\u001b[1;31m---------------------------------------------------------------------------\u001b[0m",
      "\u001b[1;31mcom_error\u001b[0m                                 Traceback (most recent call last)",
      "\u001b[1;32m<ipython-input-18-73778dee28d5>\u001b[0m in \u001b[0;36m<module>\u001b[1;34m\u001b[0m\n\u001b[0;32m      5\u001b[0m \u001b[0mName\u001b[0m \u001b[1;33m=\u001b[0m \u001b[0mticker\u001b[0m\u001b[1;33m.\u001b[0m\u001b[0minfo\u001b[0m\u001b[1;33m[\u001b[0m\u001b[1;34m'longName'\u001b[0m\u001b[1;33m]\u001b[0m\u001b[1;33m\u001b[0m\u001b[1;33m\u001b[0m\u001b[0m\n\u001b[0;32m      6\u001b[0m \u001b[0mprint\u001b[0m\u001b[1;33m(\u001b[0m\u001b[0mName\u001b[0m\u001b[1;33m)\u001b[0m\u001b[1;33m\u001b[0m\u001b[1;33m\u001b[0m\u001b[0m\n\u001b[1;32m----> 7\u001b[1;33m \u001b[0moverview\u001b[0m\u001b[1;33m.\u001b[0m\u001b[0mrange\u001b[0m\u001b[1;33m(\u001b[0m\u001b[1;34m'F3'\u001b[0m\u001b[1;33m)\u001b[0m\u001b[1;33m.\u001b[0m\u001b[0mvalue\u001b[0m \u001b[1;33m=\u001b[0m \u001b[0mName\u001b[0m\u001b[1;33m\u001b[0m\u001b[1;33m\u001b[0m\u001b[0m\n\u001b[0m",
      "\u001b[1;32m~\\Anaconda3\\lib\\site-packages\\xlwings\\main.py\u001b[0m in \u001b[0;36mrange\u001b[1;34m(self, cell1, cell2)\u001b[0m\n\u001b[0;32m    834\u001b[0m                 \u001b[1;32mraise\u001b[0m \u001b[0mValueError\u001b[0m\u001b[1;33m(\u001b[0m\u001b[1;34m\"Second range is not on this sheet\"\u001b[0m\u001b[1;33m)\u001b[0m\u001b[1;33m\u001b[0m\u001b[1;33m\u001b[0m\u001b[0m\n\u001b[0;32m    835\u001b[0m             \u001b[0mcell2\u001b[0m \u001b[1;33m=\u001b[0m \u001b[0mcell2\u001b[0m\u001b[1;33m.\u001b[0m\u001b[0mimpl\u001b[0m\u001b[1;33m\u001b[0m\u001b[1;33m\u001b[0m\u001b[0m\n\u001b[1;32m--> 836\u001b[1;33m         \u001b[1;32mreturn\u001b[0m \u001b[0mRange\u001b[0m\u001b[1;33m(\u001b[0m\u001b[0mimpl\u001b[0m\u001b[1;33m=\u001b[0m\u001b[0mself\u001b[0m\u001b[1;33m.\u001b[0m\u001b[0mimpl\u001b[0m\u001b[1;33m.\u001b[0m\u001b[0mrange\u001b[0m\u001b[1;33m(\u001b[0m\u001b[0mcell1\u001b[0m\u001b[1;33m,\u001b[0m \u001b[0mcell2\u001b[0m\u001b[1;33m)\u001b[0m\u001b[1;33m)\u001b[0m\u001b[1;33m\u001b[0m\u001b[1;33m\u001b[0m\u001b[0m\n\u001b[0m\u001b[0;32m    837\u001b[0m \u001b[1;33m\u001b[0m\u001b[0m\n\u001b[0;32m    838\u001b[0m     \u001b[1;33m@\u001b[0m\u001b[0mproperty\u001b[0m\u001b[1;33m\u001b[0m\u001b[1;33m\u001b[0m\u001b[0m\n",
      "\u001b[1;32m~\\Anaconda3\\lib\\site-packages\\xlwings\\_xlwindows.py\u001b[0m in \u001b[0;36mrange\u001b[1;34m(self, arg1, arg2)\u001b[0m\n\u001b[0;32m    592\u001b[0m             \u001b[0marg2\u001b[0m \u001b[1;33m=\u001b[0m \u001b[1;32mNone\u001b[0m\u001b[1;33m\u001b[0m\u001b[1;33m\u001b[0m\u001b[0m\n\u001b[0;32m    593\u001b[0m         \u001b[1;32melse\u001b[0m\u001b[1;33m:\u001b[0m\u001b[1;33m\u001b[0m\u001b[1;33m\u001b[0m\u001b[0m\n\u001b[1;32m--> 594\u001b[1;33m             \u001b[0mxl1\u001b[0m \u001b[1;33m=\u001b[0m \u001b[0mself\u001b[0m\u001b[1;33m.\u001b[0m\u001b[0mxl\u001b[0m\u001b[1;33m.\u001b[0m\u001b[0mRange\u001b[0m\u001b[1;33m(\u001b[0m\u001b[0marg1\u001b[0m\u001b[1;33m)\u001b[0m\u001b[1;33m\u001b[0m\u001b[1;33m\u001b[0m\u001b[0m\n\u001b[0m\u001b[0;32m    595\u001b[0m \u001b[1;33m\u001b[0m\u001b[0m\n\u001b[0;32m    596\u001b[0m         \u001b[1;32mif\u001b[0m \u001b[0marg2\u001b[0m \u001b[1;32mis\u001b[0m \u001b[1;32mNone\u001b[0m\u001b[1;33m:\u001b[0m\u001b[1;33m\u001b[0m\u001b[1;33m\u001b[0m\u001b[0m\n",
      "\u001b[1;32m~\\Anaconda3\\lib\\site-packages\\xlwings\\_xlwindows.py\u001b[0m in \u001b[0;36m__call__\u001b[1;34m(self, *args, **kwargs)\u001b[0m\n\u001b[0;32m     61\u001b[0m         \u001b[1;32mwhile\u001b[0m \u001b[1;32mTrue\u001b[0m\u001b[1;33m:\u001b[0m\u001b[1;33m\u001b[0m\u001b[1;33m\u001b[0m\u001b[0m\n\u001b[0;32m     62\u001b[0m             \u001b[1;32mtry\u001b[0m\u001b[1;33m:\u001b[0m\u001b[1;33m\u001b[0m\u001b[1;33m\u001b[0m\u001b[0m\n\u001b[1;32m---> 63\u001b[1;33m                 \u001b[0mv\u001b[0m \u001b[1;33m=\u001b[0m \u001b[0mself\u001b[0m\u001b[1;33m.\u001b[0m\u001b[0m__method\u001b[0m\u001b[1;33m(\u001b[0m\u001b[1;33m*\u001b[0m\u001b[0margs\u001b[0m\u001b[1;33m,\u001b[0m \u001b[1;33m**\u001b[0m\u001b[0mkwargs\u001b[0m\u001b[1;33m)\u001b[0m\u001b[1;33m\u001b[0m\u001b[1;33m\u001b[0m\u001b[0m\n\u001b[0m\u001b[0;32m     64\u001b[0m                 \u001b[0mt\u001b[0m \u001b[1;33m=\u001b[0m \u001b[0mtype\u001b[0m\u001b[1;33m(\u001b[0m\u001b[0mv\u001b[0m\u001b[1;33m)\u001b[0m\u001b[1;33m\u001b[0m\u001b[1;33m\u001b[0m\u001b[0m\n\u001b[0;32m     65\u001b[0m                 \u001b[1;32mif\u001b[0m \u001b[0mt\u001b[0m \u001b[1;32mis\u001b[0m \u001b[0mCDispatch\u001b[0m\u001b[1;33m:\u001b[0m\u001b[1;33m\u001b[0m\u001b[1;33m\u001b[0m\u001b[0m\n",
      "\u001b[1;32m~\\Anaconda3\\lib\\site-packages\\win32com\\client\\dynamic.py\u001b[0m in \u001b[0;36mRange\u001b[1;34m(self, Cell1, Cell2)\u001b[0m\n",
      "\u001b[1;31mcom_error\u001b[0m: (-2147023174, 'The RPC server is unavailable.', None, None)"
     ]
    }
   ],
   "source": [
    "# code = input(\"Enter Share Code (don't need .ax): \")\n",
    "code='NAB'\n",
    "code = code+'.ax'\n",
    "ticker = yf.Ticker(code)\n",
    "Name = ticker.info['longName']\n",
    "print(Name)\n",
    "overview.range('F3').value = Name"
   ]
  },
  {
   "cell_type": "markdown",
   "metadata": {},
   "source": [
    "# Website Link"
   ]
  },
  {
   "cell_type": "code",
   "execution_count": 39,
   "metadata": {},
   "outputs": [
    {
     "name": "stdout",
     "output_type": "stream",
     "text": [
      "http://www.csl.com.au\n"
     ]
    }
   ],
   "source": [
    "Website = ticker.info['website']\n",
    "print(Website)\n",
    "overview.range('I3').value = Website"
   ]
  },
  {
   "cell_type": "markdown",
   "metadata": {},
   "source": [
    "# Industry"
   ]
  },
  {
   "cell_type": "code",
   "execution_count": 4,
   "metadata": {},
   "outputs": [
    {
     "name": "stdout",
     "output_type": "stream",
     "text": [
      "Gold\n"
     ]
    }
   ],
   "source": [
    "Industry = ticker.info['industry']\n",
    "print(Industry)\n"
   ]
  },
  {
   "cell_type": "markdown",
   "metadata": {},
   "source": [
    "# Previous Close Price"
   ]
  },
  {
   "cell_type": "code",
   "execution_count": 5,
   "metadata": {},
   "outputs": [
    {
     "name": "stdout",
     "output_type": "stream",
     "text": [
      "4.630000114440918\n"
     ]
    }
   ],
   "source": [
    "# print(ticker.info['previousClose'])\n",
    "price = ticker.history(period='1d')['Close'][0]\n",
    "print(price)\n"
   ]
  },
  {
   "cell_type": "markdown",
   "metadata": {},
   "source": [
    "# Dividend Yield"
   ]
  },
  {
   "cell_type": "code",
   "execution_count": 6,
   "metadata": {},
   "outputs": [
    {
     "name": "stdout",
     "output_type": "stream",
     "text": [
      "0.030199999\n"
     ]
    }
   ],
   "source": [
    "Div_Yield = ticker.info[\"dividendYield\"]\n",
    "print(Div_Yield)"
   ]
  },
  {
   "cell_type": "markdown",
   "metadata": {},
   "source": [
    "# Company Blurb"
   ]
  },
  {
   "cell_type": "code",
   "execution_count": 7,
   "metadata": {},
   "outputs": [
    {
     "name": "stdout",
     "output_type": "stream",
     "text": [
      "Evolution Mining Limited engages in identifying, developing, and operating gold related projects in Australia and New Zealand. It also explores for copper and silver deposits. As of June 30, 2020, the company operated five wholly-owned gold mines, such as Cowal in New South Wales; Mt Carlton and Mt Rawdon in Queensland; Mungari in Western Australia; and Red Lake in Ontario, as well as had an economic interest in the Ernest Henry copper-gold operation in Queensland. It also holds 100% interest in the Crush Creek project located southeast of the Mt Carlton Operation in Queensland. The company was formerly known as Catalpa Resources Limited and changed its name to Evolution Mining Limited in November 2011. Evolution Mining Limited was incorporated in 1998 and is based in Sydney, Australia.\n"
     ]
    }
   ],
   "source": [
    "Blurb = ticker.info['longBusinessSummary']\n",
    "print(Blurb)"
   ]
  },
  {
   "cell_type": "markdown",
   "metadata": {},
   "source": [
    "# DCF Model"
   ]
  },
  {
   "cell_type": "markdown",
   "metadata": {},
   "source": [
    "## Tax Rate"
   ]
  },
  {
   "cell_type": "code",
   "execution_count": 8,
   "metadata": {},
   "outputs": [
    {
     "name": "stdout",
     "output_type": "stream",
     "text": [
      "0.3\n"
     ]
    }
   ],
   "source": [
    "fin_df = ticker.financials\n",
    "fin_df = fin_df.fillna(0)\n",
    "inc_b4_tax = fin_df.loc['Income Before Tax'][0]\n",
    "inc_tax_exp = fin_df.loc['Income Tax Expense'][0]\n",
    "# Tax_Rate = inc_tax_exp/inc_b4_tax\n",
    "Tax_Rate = 0.3\n",
    "print(Tax_Rate)"
   ]
  },
  {
   "cell_type": "markdown",
   "metadata": {},
   "source": [
    "## Transaction Date"
   ]
  },
  {
   "cell_type": "code",
   "execution_count": 9,
   "metadata": {},
   "outputs": [
    {
     "name": "stdout",
     "output_type": "stream",
     "text": [
      "2021-05-02\n"
     ]
    }
   ],
   "source": [
    "transaction_date = dt.date.today().strftime(\"%Y-%m-%d\")\n",
    "print(transaction_date)"
   ]
  },
  {
   "cell_type": "markdown",
   "metadata": {},
   "source": [
    "## Fiscal Year End"
   ]
  },
  {
   "cell_type": "code",
   "execution_count": 10,
   "metadata": {},
   "outputs": [
    {
     "name": "stdout",
     "output_type": "stream",
     "text": [
      "2021-06-30\n"
     ]
    }
   ],
   "source": [
    "fiscal_EOY = (dt.datetime.utcfromtimestamp(int(ticker.info['nextFiscalYearEnd']))-dt.timedelta(days=365)).strftime('%Y-%m-%d')\n",
    "print(fiscal_EOY)"
   ]
  },
  {
   "cell_type": "markdown",
   "metadata": {},
   "source": [
    "## Shares Outstanding"
   ]
  },
  {
   "cell_type": "code",
   "execution_count": 11,
   "metadata": {},
   "outputs": [
    {
     "name": "stdout",
     "output_type": "stream",
     "text": [
      "1708669952\n"
     ]
    }
   ],
   "source": [
    "shares_out = ticker.info['sharesOutstanding']\n",
    "print(shares_out)"
   ]
  },
  {
   "cell_type": "markdown",
   "metadata": {},
   "source": [
    "## Total Debt"
   ]
  },
  {
   "cell_type": "code",
   "execution_count": 21,
   "metadata": {},
   "outputs": [
    {
     "name": "stdout",
     "output_type": "stream",
     "text": [
      "205479000000.0\n"
     ]
    }
   ],
   "source": [
    "bal_df = ticker.balance_sheet\n",
    "bal_df = bal_df.fillna(0)\n",
    "Debt = bal_df.loc['Long Term Debt'][0]+bal_df.loc['Short Long Term Debt'][0]\n",
    "print(Debt)"
   ]
  },
  {
   "cell_type": "markdown",
   "metadata": {},
   "source": [
    "## Total Cash"
   ]
  },
  {
   "cell_type": "code",
   "execution_count": 13,
   "metadata": {},
   "outputs": [
    {
     "name": "stdout",
     "output_type": "stream",
     "text": [
      "372592000.0\n"
     ]
    }
   ],
   "source": [
    "Cash = bal_df.loc['Cash'][0]\n",
    "print(Cash)"
   ]
  },
  {
   "cell_type": "markdown",
   "metadata": {},
   "source": [
    "## Capital Expenditure"
   ]
  },
  {
   "cell_type": "code",
   "execution_count": 10,
   "metadata": {},
   "outputs": [
    {
     "name": "stdout",
     "output_type": "stream",
     "text": [
      "-1206800000.0\n"
     ]
    }
   ],
   "source": [
    "cash_df = ticker.cashflow\n",
    "cash_df = cash_df.fillna(0)\n",
    "CapEx = cash_df.loc['Capital Expenditures'][0]\n",
    "print(CapEx)"
   ]
  },
  {
   "cell_type": "markdown",
   "metadata": {},
   "source": [
    "## Shareholder Equity"
   ]
  },
  {
   "cell_type": "code",
   "execution_count": 8,
   "metadata": {},
   "outputs": [
    {
     "ename": "NameError",
     "evalue": "name 'bal_df' is not defined",
     "output_type": "error",
     "traceback": [
      "\u001b[1;31m---------------------------------------------------------------------------\u001b[0m",
      "\u001b[1;31mNameError\u001b[0m                                 Traceback (most recent call last)",
      "\u001b[1;32m<ipython-input-8-2e69fbf29fcc>\u001b[0m in \u001b[0;36m<module>\u001b[1;34m\u001b[0m\n\u001b[1;32m----> 1\u001b[1;33m \u001b[0mshare_equity\u001b[0m \u001b[1;33m=\u001b[0m \u001b[0mbal_df\u001b[0m\u001b[1;33m.\u001b[0m\u001b[0mloc\u001b[0m\u001b[1;33m[\u001b[0m\u001b[1;34m'Total Stockholder Equity'\u001b[0m\u001b[1;33m]\u001b[0m\u001b[1;33m[\u001b[0m\u001b[1;36m0\u001b[0m\u001b[1;33m]\u001b[0m\u001b[1;33m\u001b[0m\u001b[1;33m\u001b[0m\u001b[0m\n\u001b[0m\u001b[0;32m      2\u001b[0m \u001b[0mprint\u001b[0m\u001b[1;33m(\u001b[0m\u001b[0mshare_equity\u001b[0m\u001b[1;33m)\u001b[0m\u001b[1;33m\u001b[0m\u001b[1;33m\u001b[0m\u001b[0m\n",
      "\u001b[1;31mNameError\u001b[0m: name 'bal_df' is not defined"
     ]
    }
   ],
   "source": [
    "share_equity = bal_df.loc['Total Stockholder Equity'][0]\n",
    "print(share_equity)"
   ]
  },
  {
   "cell_type": "markdown",
   "metadata": {},
   "source": [
    "## Cost of Debt"
   ]
  },
  {
   "cell_type": "code",
   "execution_count": 11,
   "metadata": {},
   "outputs": [
    {
     "name": "stdout",
     "output_type": "stream",
     "text": [
      "nan\n"
     ]
    }
   ],
   "source": [
    "Cost_Debt = -fin_df.loc['Interest Expense'][0]/Debt\n",
    "print(Cost_Debt)"
   ]
  },
  {
   "cell_type": "markdown",
   "metadata": {},
   "source": [
    "## EV/EBITDA Multiple"
   ]
  },
  {
   "cell_type": "code",
   "execution_count": 17,
   "metadata": {},
   "outputs": [
    {
     "name": "stdout",
     "output_type": "stream",
     "text": [
      "7.53\n"
     ]
    }
   ],
   "source": [
    "EBITDA_Mult = ticker.info['enterpriseToEbitda']\n",
    "print(EBITDA_Mult)"
   ]
  },
  {
   "cell_type": "markdown",
   "metadata": {},
   "source": [
    "## Levered Beta"
   ]
  },
  {
   "cell_type": "code",
   "execution_count": 18,
   "metadata": {},
   "outputs": [
    {
     "name": "stdout",
     "output_type": "stream",
     "text": [
      "-0.111295\n"
     ]
    }
   ],
   "source": [
    "beta = ticker.info['beta']\n",
    "print(beta)"
   ]
  },
  {
   "cell_type": "code",
   "execution_count": 7,
   "metadata": {},
   "outputs": [],
   "source": [
    "fin_df = ticker.financials\n",
    "IS.range('A1').value = fin_df"
   ]
  },
  {
   "cell_type": "code",
   "execution_count": 16,
   "metadata": {},
   "outputs": [
    {
     "name": "stdout",
     "output_type": "stream",
     "text": [
      "4824600000.0\n",
      "0.0\n"
     ]
    }
   ],
   "source": [
    "bal_df = bal_df.fillna(0)\n",
    "print(bal_df.loc['Long Term Debt'][0])\n",
    "print(bal_df.loc['Short Long Term Debt'][0])"
   ]
  },
  {
   "cell_type": "code",
   "execution_count": 20,
   "metadata": {},
   "outputs": [
    {
     "data": {
      "text/plain": [
       "87940677632"
      ]
     },
     "execution_count": 20,
     "metadata": {},
     "output_type": "execute_result"
    }
   ],
   "source": [
    "print(ticker.info['marketCap'])\n",
    "print(ticker.info['marketCap']))\n"
   ]
  },
  {
   "cell_type": "code",
   "execution_count": 42,
   "metadata": {},
   "outputs": [
    {
     "data": {
      "text/plain": [
       "205479000000.0"
      ]
     },
     "execution_count": 42,
     "metadata": {},
     "output_type": "execute_result"
    }
   ],
   "source": [
    "sum(bal_df.loc[bal_df.index[bal_df.index.str.find('Debt')!=-1]].iloc[:,0])"
   ]
  },
  {
   "cell_type": "code",
   "execution_count": 27,
   "metadata": {},
   "outputs": [
    {
     "data": {
      "text/html": [
       "<div>\n",
       "<style scoped>\n",
       "    .dataframe tbody tr th:only-of-type {\n",
       "        vertical-align: middle;\n",
       "    }\n",
       "\n",
       "    .dataframe tbody tr th {\n",
       "        vertical-align: top;\n",
       "    }\n",
       "\n",
       "    .dataframe thead th {\n",
       "        text-align: right;\n",
       "    }\n",
       "</style>\n",
       "<table border=\"1\" class=\"dataframe\">\n",
       "  <thead>\n",
       "    <tr style=\"text-align: right;\">\n",
       "      <th></th>\n",
       "      <th>2020-09-30 00:00:00</th>\n",
       "      <th>2019-09-30 00:00:00</th>\n",
       "      <th>2018-09-30 00:00:00</th>\n",
       "      <th>2017-09-30 00:00:00</th>\n",
       "    </tr>\n",
       "  </thead>\n",
       "  <tbody>\n",
       "    <tr>\n",
       "      <th>Accounts Payable</th>\n",
       "      <td>5.037880e+11</td>\n",
       "      <td>4.654830e+11</td>\n",
       "      <td>4.529320e+11</td>\n",
       "      <td>4.598360e+11</td>\n",
       "    </tr>\n",
       "    <tr>\n",
       "      <th>Cash</th>\n",
       "      <td>3.465200e+10</td>\n",
       "      <td>2.596100e+10</td>\n",
       "      <td>2.649100e+10</td>\n",
       "      <td>3.476300e+10</td>\n",
       "    </tr>\n",
       "    <tr>\n",
       "      <th>Common Stock</th>\n",
       "      <td>4.353100e+10</td>\n",
       "      <td>3.676200e+10</td>\n",
       "      <td>3.306200e+10</td>\n",
       "      <td>3.170700e+10</td>\n",
       "    </tr>\n",
       "    <tr>\n",
       "      <th>Deferred Long Term Asset Charges</th>\n",
       "      <td>3.647000e+09</td>\n",
       "      <td>2.670000e+09</td>\n",
       "      <td>2.083000e+09</td>\n",
       "      <td>1.988000e+09</td>\n",
       "    </tr>\n",
       "    <tr>\n",
       "      <th>Good Will</th>\n",
       "      <td>1.838000e+09</td>\n",
       "      <td>2.864000e+09</td>\n",
       "      <td>2.863000e+09</td>\n",
       "      <td>2.862000e+09</td>\n",
       "    </tr>\n",
       "    <tr>\n",
       "      <th>Intangible Assets</th>\n",
       "      <td>1.971000e+09</td>\n",
       "      <td>2.712000e+09</td>\n",
       "      <td>2.924000e+09</td>\n",
       "      <td>2.739000e+09</td>\n",
       "    </tr>\n",
       "    <tr>\n",
       "      <th>Long Term Debt</th>\n",
       "      <td>1.443940e+11</td>\n",
       "      <td>1.464630e+11</td>\n",
       "      <td>1.445240e+11</td>\n",
       "      <td>1.379480e+11</td>\n",
       "    </tr>\n",
       "    <tr>\n",
       "      <th>Long Term Investments</th>\n",
       "      <td>4.121300e+10</td>\n",
       "      <td>4.151800e+10</td>\n",
       "      <td>4.346000e+10</td>\n",
       "      <td>4.499700e+10</td>\n",
       "    </tr>\n",
       "    <tr>\n",
       "      <th>Minority Interest</th>\n",
       "      <td>1.000000e+06</td>\n",
       "      <td>8.000000e+06</td>\n",
       "      <td>1.100000e+07</td>\n",
       "      <td>1.100000e+07</td>\n",
       "    </tr>\n",
       "    <tr>\n",
       "      <th>Net Receivables</th>\n",
       "      <td>2.149700e+10</td>\n",
       "      <td>9.011000e+09</td>\n",
       "      <td>6.699000e+09</td>\n",
       "      <td>5.128000e+09</td>\n",
       "    </tr>\n",
       "    <tr>\n",
       "      <th>Net Tangible Assets</th>\n",
       "      <td>5.748300e+10</td>\n",
       "      <td>5.002000e+10</td>\n",
       "      <td>4.593900e+10</td>\n",
       "      <td>4.473000e+10</td>\n",
       "    </tr>\n",
       "    <tr>\n",
       "      <th>Other Assets</th>\n",
       "      <td>5.869400e+11</td>\n",
       "      <td>5.918670e+11</td>\n",
       "      <td>5.712880e+11</td>\n",
       "      <td>5.451270e+11</td>\n",
       "    </tr>\n",
       "    <tr>\n",
       "      <th>Other Current Assets</th>\n",
       "      <td>1.073400e+10</td>\n",
       "      <td>1.037200e+10</td>\n",
       "      <td>1.138200e+10</td>\n",
       "      <td>1.185300e+10</td>\n",
       "    </tr>\n",
       "    <tr>\n",
       "      <th>Other Current Liab</th>\n",
       "      <td>3.505000e+09</td>\n",
       "      <td>2.672000e+09</td>\n",
       "      <td>2.130000e+09</td>\n",
       "      <td>2.033000e+09</td>\n",
       "    </tr>\n",
       "    <tr>\n",
       "      <th>Other Liab</th>\n",
       "      <td>1.049100e+10</td>\n",
       "      <td>1.131500e+10</td>\n",
       "      <td>8.307000e+09</td>\n",
       "      <td>7.907000e+09</td>\n",
       "    </tr>\n",
       "    <tr>\n",
       "      <th>Other Stockholder Equity</th>\n",
       "      <td>2.044000e+09</td>\n",
       "      <td>2.251000e+09</td>\n",
       "      <td>1.991000e+09</td>\n",
       "      <td>2.182000e+09</td>\n",
       "    </tr>\n",
       "    <tr>\n",
       "      <th>Property Plant Equipment</th>\n",
       "      <td>2.374000e+09</td>\n",
       "      <td>1.117000e+09</td>\n",
       "      <td>1.199000e+09</td>\n",
       "      <td>1.315000e+09</td>\n",
       "    </tr>\n",
       "    <tr>\n",
       "      <th>Retained Earnings</th>\n",
       "      <td>1.571700e+10</td>\n",
       "      <td>1.658300e+10</td>\n",
       "      <td>1.667300e+10</td>\n",
       "      <td>1.644200e+10</td>\n",
       "    </tr>\n",
       "    <tr>\n",
       "      <th>Short Long Term Debt</th>\n",
       "      <td>6.108500e+10</td>\n",
       "      <td>6.354800e+10</td>\n",
       "      <td>6.362800e+10</td>\n",
       "      <td>5.266200e+10</td>\n",
       "    </tr>\n",
       "    <tr>\n",
       "      <th>Short Term Investments</th>\n",
       "      <td>6.154200e+10</td>\n",
       "      <td>5.320100e+10</td>\n",
       "      <td>4.806900e+10</td>\n",
       "      <td>4.076600e+10</td>\n",
       "    </tr>\n",
       "    <tr>\n",
       "      <th>Total Assets</th>\n",
       "      <td>8.665650e+11</td>\n",
       "      <td>8.471240e+11</td>\n",
       "      <td>8.065100e+11</td>\n",
       "      <td>7.883250e+11</td>\n",
       "    </tr>\n",
       "    <tr>\n",
       "      <th>Total Current Assets</th>\n",
       "      <td>2.322290e+11</td>\n",
       "      <td>2.070460e+11</td>\n",
       "      <td>1.847760e+11</td>\n",
       "      <td>1.912850e+11</td>\n",
       "    </tr>\n",
       "    <tr>\n",
       "      <th>Total Current Liabilities</th>\n",
       "      <td>6.491940e+11</td>\n",
       "      <td>6.337420e+11</td>\n",
       "      <td>6.009670e+11</td>\n",
       "      <td>5.911530e+11</td>\n",
       "    </tr>\n",
       "    <tr>\n",
       "      <th>Total Liab</th>\n",
       "      <td>8.052720e+11</td>\n",
       "      <td>7.915200e+11</td>\n",
       "      <td>7.537980e+11</td>\n",
       "      <td>7.370080e+11</td>\n",
       "    </tr>\n",
       "    <tr>\n",
       "      <th>Total Stockholder Equity</th>\n",
       "      <td>6.129200e+10</td>\n",
       "      <td>5.559600e+10</td>\n",
       "      <td>5.172600e+10</td>\n",
       "      <td>5.033100e+10</td>\n",
       "    </tr>\n",
       "    <tr>\n",
       "      <th>Treasury Stock</th>\n",
       "      <td>2.044000e+09</td>\n",
       "      <td>2.251000e+09</td>\n",
       "      <td>1.991000e+09</td>\n",
       "      <td>2.182000e+09</td>\n",
       "    </tr>\n",
       "  </tbody>\n",
       "</table>\n",
       "</div>"
      ],
      "text/plain": [
       "                                    2020-09-30    2019-09-30    2018-09-30  \\\n",
       "Accounts Payable                  5.037880e+11  4.654830e+11  4.529320e+11   \n",
       "Cash                              3.465200e+10  2.596100e+10  2.649100e+10   \n",
       "Common Stock                      4.353100e+10  3.676200e+10  3.306200e+10   \n",
       "Deferred Long Term Asset Charges  3.647000e+09  2.670000e+09  2.083000e+09   \n",
       "Good Will                         1.838000e+09  2.864000e+09  2.863000e+09   \n",
       "Intangible Assets                 1.971000e+09  2.712000e+09  2.924000e+09   \n",
       "Long Term Debt                    1.443940e+11  1.464630e+11  1.445240e+11   \n",
       "Long Term Investments             4.121300e+10  4.151800e+10  4.346000e+10   \n",
       "Minority Interest                 1.000000e+06  8.000000e+06  1.100000e+07   \n",
       "Net Receivables                   2.149700e+10  9.011000e+09  6.699000e+09   \n",
       "Net Tangible Assets               5.748300e+10  5.002000e+10  4.593900e+10   \n",
       "Other Assets                      5.869400e+11  5.918670e+11  5.712880e+11   \n",
       "Other Current Assets              1.073400e+10  1.037200e+10  1.138200e+10   \n",
       "Other Current Liab                3.505000e+09  2.672000e+09  2.130000e+09   \n",
       "Other Liab                        1.049100e+10  1.131500e+10  8.307000e+09   \n",
       "Other Stockholder Equity          2.044000e+09  2.251000e+09  1.991000e+09   \n",
       "Property Plant Equipment          2.374000e+09  1.117000e+09  1.199000e+09   \n",
       "Retained Earnings                 1.571700e+10  1.658300e+10  1.667300e+10   \n",
       "Short Long Term Debt              6.108500e+10  6.354800e+10  6.362800e+10   \n",
       "Short Term Investments            6.154200e+10  5.320100e+10  4.806900e+10   \n",
       "Total Assets                      8.665650e+11  8.471240e+11  8.065100e+11   \n",
       "Total Current Assets              2.322290e+11  2.070460e+11  1.847760e+11   \n",
       "Total Current Liabilities         6.491940e+11  6.337420e+11  6.009670e+11   \n",
       "Total Liab                        8.052720e+11  7.915200e+11  7.537980e+11   \n",
       "Total Stockholder Equity          6.129200e+10  5.559600e+10  5.172600e+10   \n",
       "Treasury Stock                    2.044000e+09  2.251000e+09  1.991000e+09   \n",
       "\n",
       "                                    2017-09-30  \n",
       "Accounts Payable                  4.598360e+11  \n",
       "Cash                              3.476300e+10  \n",
       "Common Stock                      3.170700e+10  \n",
       "Deferred Long Term Asset Charges  1.988000e+09  \n",
       "Good Will                         2.862000e+09  \n",
       "Intangible Assets                 2.739000e+09  \n",
       "Long Term Debt                    1.379480e+11  \n",
       "Long Term Investments             4.499700e+10  \n",
       "Minority Interest                 1.100000e+07  \n",
       "Net Receivables                   5.128000e+09  \n",
       "Net Tangible Assets               4.473000e+10  \n",
       "Other Assets                      5.451270e+11  \n",
       "Other Current Assets              1.185300e+10  \n",
       "Other Current Liab                2.033000e+09  \n",
       "Other Liab                        7.907000e+09  \n",
       "Other Stockholder Equity          2.182000e+09  \n",
       "Property Plant Equipment          1.315000e+09  \n",
       "Retained Earnings                 1.644200e+10  \n",
       "Short Long Term Debt              5.266200e+10  \n",
       "Short Term Investments            4.076600e+10  \n",
       "Total Assets                      7.883250e+11  \n",
       "Total Current Assets              1.912850e+11  \n",
       "Total Current Liabilities         5.911530e+11  \n",
       "Total Liab                        7.370080e+11  \n",
       "Total Stockholder Equity          5.033100e+10  \n",
       "Treasury Stock                    2.182000e+09  "
      ]
     },
     "execution_count": 27,
     "metadata": {},
     "output_type": "execute_result"
    }
   ],
   "source": [
    "bal_df"
   ]
  },
  {
   "cell_type": "code",
   "execution_count": null,
   "metadata": {},
   "outputs": [],
   "source": []
  }
 ],
 "metadata": {
  "kernelspec": {
   "display_name": "Python 3",
   "language": "python",
   "name": "python3"
  },
  "language_info": {
   "codemirror_mode": {
    "name": "ipython",
    "version": 3
   },
   "file_extension": ".py",
   "mimetype": "text/x-python",
   "name": "python",
   "nbconvert_exporter": "python",
   "pygments_lexer": "ipython3",
   "version": "3.7.3"
  }
 },
 "nbformat": 4,
 "nbformat_minor": 2
}
